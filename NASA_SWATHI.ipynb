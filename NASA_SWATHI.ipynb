{
  "nbformat": 4,
  "nbformat_minor": 0,
  "metadata": {
    "colab": {
      "provenance": [],
      "authorship_tag": "ABX9TyM7RF/DZ86mOsNhvNko33o6",
      "include_colab_link": true
    },
    "kernelspec": {
      "name": "python3",
      "display_name": "Python 3"
    },
    "language_info": {
      "name": "python"
    }
  },
  "cells": [
    {
      "cell_type": "markdown",
      "metadata": {
        "id": "view-in-github",
        "colab_type": "text"
      },
      "source": [
        "<a href=\"https://colab.research.google.com/github/SwathilekhaV/forage-jpmc-swe-task-1/blob/main/NASA_SWATHI.ipynb\" target=\"_parent\"><img src=\"https://colab.research.google.com/assets/colab-badge.svg\" alt=\"Open In Colab\"/></a>"
      ]
    },
    {
      "cell_type": "code",
      "execution_count": 1,
      "metadata": {
        "colab": {
          "base_uri": "https://localhost:8080/"
        },
        "id": "fgiuYTZNuvsN",
        "outputId": "832d5c41-3103-419b-a606-20019c2c6ac2"
      },
      "outputs": [
        {
          "output_type": "stream",
          "name": "stdout",
          "text": [
            "Archive:  nasa.zip\n",
            "  inflating: nearest-earth-objects(1910-2024).csv  \n"
          ]
        }
      ],
      "source": [
        "!unzip nasa.zip"
      ]
    },
    {
      "cell_type": "code",
      "source": [
        "import multiprocessing\n",
        "import pandas as pd\n",
        "\n",
        "# Define the map function to count hazardous objects\n",
        "def map_func_hazardous(record):\n",
        "    return 1 if record['is_hazardous'] else 0\n",
        "\n",
        "# Define the map function to get NEOs with the least miss distance\n",
        "def map_func_miss_distance(record):\n",
        "    return (record['neo_id'], record['miss_distance'])  # Tuple of neo_id and miss_distance\n",
        "\n",
        "# Define the map function to get names with the largest estimated diameter\n",
        "def map_func_diameter(record):\n",
        "    return (record['name'], record['estimated_diameter_max'])  # Tuple of name and diameter\n",
        "\n",
        "# Reduce function to count hazardous objects\n",
        "def reduce_func_hazardous(pairs):\n",
        "    return sum(pairs)\n",
        "\n",
        "# Reduce function to get the top 3 least miss distances\n",
        "def reduce_func_miss_distance(pairs):\n",
        "    return sorted(pairs, key=lambda x: x[1])[:3]  # Sort by miss_distance and take the top 3\n",
        "\n",
        "# Reduce function to get the top 3 largest diameters\n",
        "def reduce_func_diameter(pairs):\n",
        "    return sorted(pairs, key=lambda x: x[1], reverse=True)[:3]  # Sort by diameter (descending) and take top 3\n",
        "\n",
        "# Main function to run the MapReduce job\n",
        "if __name__ == \"__main__\":\n",
        "    # Load the dataset (adjust the file path as needed)\n",
        "    df = pd.read_csv('/content/nearest-earth-objects(1910-2024).csv')  # Adjust to your CSV file path\n",
        "\n",
        "    # Set up a multiprocessing pool for the Map phase\n",
        "\n",
        "    # 1. Count hazardous NEOs\n",
        "    with multiprocessing.Pool() as pool:\n",
        "        # Apply map_func_hazardous to each record in parallel\n",
        "        hazardous_map = pool.map(map_func_hazardous, df.to_dict(orient='records'))\n",
        "    total_hazardous = reduce_func_hazardous(hazardous_map)\n",
        "    print(f\"Total number of hazardous NEOs: {total_hazardous}\")\n",
        "\n",
        "    # 2. Get 3 NEOs with the least miss distance\n",
        "    with multiprocessing.Pool() as pool:\n",
        "        # Apply map_func_miss_distance to each record in parallel\n",
        "        miss_distance_map = pool.map(map_func_miss_distance, df.to_dict(orient='records'))\n",
        "    top_3_miss_distance = reduce_func_miss_distance(miss_distance_map)\n",
        "    print(f\"Top 3 NEOs with least miss distance: {top_3_miss_distance}\")\n",
        "\n",
        "    # 3. Get 3 names with the largest estimated diameter\n",
        "    with multiprocessing.Pool() as pool:\n",
        "        # Apply map_func_diameter to each record in parallel\n",
        "        diameter_map = pool.map(map_func_diameter, df.to_dict(orient='records'))\n",
        "    top_3_diameter = reduce_func_diameter(diameter_map)\n",
        "    print(f\"Top 3 NEOs with largest estimated diameter: {top_3_diameter}\")\n"
      ],
      "metadata": {
        "colab": {
          "base_uri": "https://localhost:8080/"
        },
        "id": "oeqe252Ax0Tr",
        "outputId": "bd9f826f-79aa-47f0-c620-bce7349815ef"
      },
      "execution_count": 6,
      "outputs": [
        {
          "output_type": "stream",
          "name": "stdout",
          "text": [
            "Total number of hazardous NEOs: 43162\n",
            "Top 3 NEOs with least miss distance: [(54087809, 6745.532515957), (54445916, 8098.256295645), (54051131, 9316.925424026)]\n",
            "Top 3 NEOs with largest estimated diameter: [('1036 Ganymed (A924 UB)', 83.9537266171), ('1036 Ganymed (A924 UB)', 83.9537266171), ('433 Eros (A898 PA)', 49.2084832235)]\n"
          ]
        }
      ]
    }
  ]
}